{
 "cells": [
  {
   "cell_type": "markdown",
   "metadata": {},
   "source": [
    "Преобразовать xlsx файл в csv"
   ]
  },
  {
   "cell_type": "code",
   "execution_count": 2,
   "metadata": {},
   "outputs": [],
   "source": [
    "import pandas as pd\n",
    "import glob\n",
    "import re"
   ]
  },
  {
   "cell_type": "code",
   "execution_count": 65,
   "metadata": {},
   "outputs": [],
   "source": [
    "directory = 'dataset'\n",
    "expr = r'\\.xlsx'\n",
    "\n",
    "for file in glob.iglob(f'{directory}/*.xlsx'):\n",
    "    data = pd.read_excel(file, dtype=str, index_col=None)\n",
    "    data.to_csv(f'{re.sub(expr, \"\", file)}.csv', encoding='utf-8', index=False)"
   ]
  },
  {
   "cell_type": "markdown",
   "metadata": {},
   "source": [
    "Скачать стоп-слова"
   ]
  },
  {
   "cell_type": "code",
   "execution_count": 66,
   "metadata": {},
   "outputs": [
    {
     "name": "stderr",
     "output_type": "stream",
     "text": [
      "[nltk_data] Downloading package stopwords to\n",
      "[nltk_data]     C:\\Users\\slashfast\\AppData\\Roaming\\nltk_data...\n",
      "[nltk_data]   Package stopwords is already up-to-date!\n"
     ]
    },
    {
     "data": {
      "text/plain": [
       "True"
      ]
     },
     "execution_count": 66,
     "metadata": {},
     "output_type": "execute_result"
    }
   ],
   "source": [
    "import nltk\n",
    "nltk.download('stopwords')"
   ]
  },
  {
   "cell_type": "markdown",
   "metadata": {},
   "source": [
    "Считать дата-сет и отсортировать значения по global_id компании"
   ]
  },
  {
   "cell_type": "code",
   "execution_count": 3,
   "metadata": {},
   "outputs": [
    {
     "data": {
      "text/plain": "      global_id  Создаваемые продукты                 Технология (1 уровень)  \\\n838      833824                812463                      Синтез информации   \n853      833843                812463                      Синтез информации   \n1496     853808                812463           Синтез материальных объектов   \n173      832917                812474  Обработка и преобразование информации   \n414      833258                812474  Обработка и преобразование информации   \n...         ...                   ...                                    ...   \n4629    1064260               1064167                      Синтез информации   \n4630    1064317               1064272                      Синтез информации   \n4631    1064368               1064273                      Синтез информации   \n4632    1064391               1064383  Обработка и преобразование информации   \n4633    1064414               1064412           Синтез материальных объектов   \n\n                                 Технология (2 уровень)  \\\n838   Моделирование процессов реального мира (цифров...   \n853   Моделирование процессов реального мира (цифров...   \n1496                    Новые производственные процессы   \n173                 Обработка и хранение больших данных   \n414                 Обработка и хранение больших данных   \n...                                                 ...   \n4629                            Искусственный интеллект   \n4630                            Искусственный интеллект   \n4631                            Искусственный интеллект   \n4632                Интеллектуальные системы управления   \n4633                      Материалы с новыми свойствами   \n\n                                 Технология (3 уровень)  \n838                  Моделирование физических процессов  \n853                     Моделирование инженерных систем  \n1496   Процессы и технологии добычи полезных ископаемых  \n173                  Интерфейсы обмена большими данными  \n414                    Системы управления базами данных  \n...                                                 ...  \n4629  Экспертные системы на базе искусственного инте...  \n4630  Экспертные системы на базе искусственного инте...  \n4631  Экспертные системы на базе искусственного инте...  \n4632  Системы управления жизненным циклом сложных ин...  \n4633                         Изменение объемных свойств  \n\n[4761 rows x 5 columns]",
      "text/html": "<div>\n<style scoped>\n    .dataframe tbody tr th:only-of-type {\n        vertical-align: middle;\n    }\n\n    .dataframe tbody tr th {\n        vertical-align: top;\n    }\n\n    .dataframe thead th {\n        text-align: right;\n    }\n</style>\n<table border=\"1\" class=\"dataframe\">\n  <thead>\n    <tr style=\"text-align: right;\">\n      <th></th>\n      <th>global_id</th>\n      <th>Создаваемые продукты</th>\n      <th>Технология (1 уровень)</th>\n      <th>Технология (2 уровень)</th>\n      <th>Технология (3 уровень)</th>\n    </tr>\n  </thead>\n  <tbody>\n    <tr>\n      <th>838</th>\n      <td>833824</td>\n      <td>812463</td>\n      <td>Синтез информации</td>\n      <td>Моделирование процессов реального мира (цифров...</td>\n      <td>Моделирование физических процессов</td>\n    </tr>\n    <tr>\n      <th>853</th>\n      <td>833843</td>\n      <td>812463</td>\n      <td>Синтез информации</td>\n      <td>Моделирование процессов реального мира (цифров...</td>\n      <td>Моделирование инженерных систем</td>\n    </tr>\n    <tr>\n      <th>1496</th>\n      <td>853808</td>\n      <td>812463</td>\n      <td>Синтез материальных объектов</td>\n      <td>Новые производственные процессы</td>\n      <td>Процессы и технологии добычи полезных ископаемых</td>\n    </tr>\n    <tr>\n      <th>173</th>\n      <td>832917</td>\n      <td>812474</td>\n      <td>Обработка и преобразование информации</td>\n      <td>Обработка и хранение больших данных</td>\n      <td>Интерфейсы обмена большими данными</td>\n    </tr>\n    <tr>\n      <th>414</th>\n      <td>833258</td>\n      <td>812474</td>\n      <td>Обработка и преобразование информации</td>\n      <td>Обработка и хранение больших данных</td>\n      <td>Системы управления базами данных</td>\n    </tr>\n    <tr>\n      <th>...</th>\n      <td>...</td>\n      <td>...</td>\n      <td>...</td>\n      <td>...</td>\n      <td>...</td>\n    </tr>\n    <tr>\n      <th>4629</th>\n      <td>1064260</td>\n      <td>1064167</td>\n      <td>Синтез информации</td>\n      <td>Искусственный интеллект</td>\n      <td>Экспертные системы на базе искусственного инте...</td>\n    </tr>\n    <tr>\n      <th>4630</th>\n      <td>1064317</td>\n      <td>1064272</td>\n      <td>Синтез информации</td>\n      <td>Искусственный интеллект</td>\n      <td>Экспертные системы на базе искусственного инте...</td>\n    </tr>\n    <tr>\n      <th>4631</th>\n      <td>1064368</td>\n      <td>1064273</td>\n      <td>Синтез информации</td>\n      <td>Искусственный интеллект</td>\n      <td>Экспертные системы на базе искусственного инте...</td>\n    </tr>\n    <tr>\n      <th>4632</th>\n      <td>1064391</td>\n      <td>1064383</td>\n      <td>Обработка и преобразование информации</td>\n      <td>Интеллектуальные системы управления</td>\n      <td>Системы управления жизненным циклом сложных ин...</td>\n    </tr>\n    <tr>\n      <th>4633</th>\n      <td>1064414</td>\n      <td>1064412</td>\n      <td>Синтез материальных объектов</td>\n      <td>Материалы с новыми свойствами</td>\n      <td>Изменение объемных свойств</td>\n    </tr>\n  </tbody>\n</table>\n<p>4761 rows × 5 columns</p>\n</div>"
     },
     "execution_count": 3,
     "metadata": {},
     "output_type": "execute_result"
    }
   ],
   "source": [
    "folder = 'dataset/'\n",
    "companies_dataset = pd.read_csv(f'{folder}1. Компании.csv')\n",
    "products_dataset = pd.read_csv(f'{folder}2. Продукты_new.csv')\n",
    "industry_dataset = pd.read_csv(f'{folder}3. Отрасли.csv')\n",
    "technology_dataset = pd.read_csv(f'{folder}4. Технологии.csv')\n",
    "\n",
    "companies_dataset.sort_values('global_id')\n",
    "products_dataset.sort_values('global_id (продукта)')\n",
    "industry_dataset.sort_values('Создаваемые продукты')\n",
    "technology_dataset.sort_values('Создаваемые продукты')"
   ]
  },
  {
   "cell_type": "markdown",
   "metadata": {},
   "source": [
    "Скрапинг всех сайтов из бд (не повторять много раз!) (нестабильно)"
   ]
  },
  {
   "cell_type": "code",
   "execution_count": 4,
   "metadata": {},
   "outputs": [
    {
     "data": {
      "text/html": [
       "<div>\n",
       "<style scoped>\n",
       "    .dataframe tbody tr th:only-of-type {\n",
       "        vertical-align: middle;\n",
       "    }\n",
       "\n",
       "    .dataframe tbody tr th {\n",
       "        vertical-align: top;\n",
       "    }\n",
       "\n",
       "    .dataframe thead th {\n",
       "        text-align: right;\n",
       "    }\n",
       "</style>\n",
       "<table border=\"1\" class=\"dataframe\">\n",
       "  <thead>\n",
       "    <tr style=\"text-align: right;\">\n",
       "      <th></th>\n",
       "      <th>Сайт</th>\n",
       "    </tr>\n",
       "  </thead>\n",
       "  <tbody>\n",
       "    <tr>\n",
       "      <th>0</th>\n",
       "      <td>http://www.agroplazma.com</td>\n",
       "    </tr>\n",
       "    <tr>\n",
       "      <th>1</th>\n",
       "      <td>https://nanosemantics.ai/</td>\n",
       "    </tr>\n",
       "    <tr>\n",
       "      <th>2</th>\n",
       "      <td>http://ro-met.com</td>\n",
       "    </tr>\n",
       "    <tr>\n",
       "      <th>3</th>\n",
       "      <td>https://www.2can.ru</td>\n",
       "    </tr>\n",
       "    <tr>\n",
       "      <th>4</th>\n",
       "      <td>http://www.uchi.ru</td>\n",
       "    </tr>\n",
       "    <tr>\n",
       "      <th>...</th>\n",
       "      <td>...</td>\n",
       "    </tr>\n",
       "    <tr>\n",
       "      <th>3712</th>\n",
       "      <td>Не указано</td>\n",
       "    </tr>\n",
       "    <tr>\n",
       "      <th>3713</th>\n",
       "      <td>https://sherparpa.ru/</td>\n",
       "    </tr>\n",
       "    <tr>\n",
       "      <th>3714</th>\n",
       "      <td>https://projectpoint.ru/</td>\n",
       "    </tr>\n",
       "    <tr>\n",
       "      <th>3715</th>\n",
       "      <td>http://gbc-ural.ru/ ; https://gbc-russia.ru/</td>\n",
       "    </tr>\n",
       "    <tr>\n",
       "      <th>3716</th>\n",
       "      <td>http://gbc-ural.ru/ ; https://gbc-russia.ru/</td>\n",
       "    </tr>\n",
       "  </tbody>\n",
       "</table>\n",
       "<p>3717 rows × 1 columns</p>\n",
       "</div>"
      ],
      "text/plain": [
       "                                              Сайт\n",
       "0                        http://www.agroplazma.com\n",
       "1                        https://nanosemantics.ai/\n",
       "2                                http://ro-met.com\n",
       "3                              https://www.2can.ru\n",
       "4                               http://www.uchi.ru\n",
       "...                                            ...\n",
       "3712                                    Не указано\n",
       "3713                         https://sherparpa.ru/\n",
       "3714                      https://projectpoint.ru/\n",
       "3715  http://gbc-ural.ru/ ; https://gbc-russia.ru/\n",
       "3716  http://gbc-ural.ru/ ; https://gbc-russia.ru/\n",
       "\n",
       "[3717 rows x 1 columns]"
      ]
     },
     "metadata": {},
     "output_type": "display_data"
    },
    {
     "ename": "TypeError",
     "evalue": "unsupported operand type(s) for +: 'Response' and 'str'",
     "output_type": "error",
     "traceback": [
      "\u001B[1;31m---------------------------------------------------------------------------\u001B[0m",
      "\u001B[1;31mTypeError\u001B[0m                                 Traceback (most recent call last)",
      "Cell \u001B[1;32mIn [4], line 22\u001B[0m\n\u001B[0;32m     20\u001B[0m     web_descriptions\u001B[38;5;241m.\u001B[39mappend(\u001B[38;5;124m'\u001B[39m\u001B[38;5;124m'\u001B[39m)\n\u001B[0;32m     21\u001B[0m     \u001B[38;5;28;01mcontinue\u001B[39;00m\n\u001B[1;32m---> 22\u001B[0m \u001B[38;5;28mprint\u001B[39m(\u001B[43msource\u001B[49m\u001B[43m \u001B[49m\u001B[38;5;241;43m+\u001B[39;49m\u001B[43m \u001B[49m\u001B[38;5;124;43m\"\u001B[39;49m\u001B[38;5;124;43m1\u001B[39;49m\u001B[38;5;124;43m\"\u001B[39;49m)\n",
      "\u001B[1;31mTypeError\u001B[0m: unsupported operand type(s) for +: 'Response' and 'str'"
     ]
    }
   ],
   "source": [
    "# import requests\n",
    "# from bs4 import BeautifulSoup\n",
    "#\n",
    "# web_descriptions_df = pd.DataFrame(companies_dataset['Сайт'])\n",
    "#\n",
    "# # Список всех сайтов\n",
    "# display(web_descriptions_df)\n",
    "#\n",
    "# web_descriptions = []\n",
    "#\n",
    "# for cell in web_descriptions_df['Сайт']:\n",
    "#     url = cell\n",
    "#     if url == 'Не указано':\n",
    "#         web_descriptions.append('')\n",
    "#         continue\n",
    "#     elif re.match(r';', url):\n",
    "#         url = re.sub(r'^(.*?)\\s\\W', '', url)\n",
    "#     try:\n",
    "#         source = requests.head(url)\n",
    "#     except:\n",
    "#         web_descriptions.append('')\n",
    "#         continue\n",
    "#     soup = BeautifulSoup(source)\n",
    "#     description = soup.find('meta', attrs={'name': 'description'})\n",
    "#\n",
    "#     if description:\n",
    "#          web_descriptions.append(description['content'].encode('utf-8'))\n",
    "#          print(f'{description[\"content\"].encode(\"utf-8\")}\\n')\n",
    "#     else:\n",
    "#          web_descriptions.append('')\n",
    "#\n",
    "# web_descriptions"
   ]
  },
  {
   "cell_type": "markdown",
   "metadata": {},
   "source": [
    "Вывести данные по задаче (собирает данные с сайта компании продукта)"
   ]
  },
  {
   "cell_type": "code",
   "execution_count": 18,
   "metadata": {},
   "outputs": [
    {
     "data": {
      "text/plain": "     global_id Наименование поддержанной компании         Отрасль  \\\n593     811423                      ООО \"ДАТАТЕХ\"  ПРОМЫШЛЕННОСТЬ   \n\n                                     Подотрасль  \\\n593  Системная интеграция и заказная разработка   \n\n                    Технология (1 уровень)  \\\n593  Обработка и преобразование информации   \n\n                  Технология (2 уровень)              Технология (3 уровень)  \\\n593  Обработка и хранение больших данных  Интерфейсы обмена большими данными   \n\n                                    Сайт  \\\n593  https://navigator.sk.ru/orn/1124203   \n\n                                     Описание компании  \n593  Компания Дататех - один из ведущих разработчик...  ",
      "text/html": "<div>\n<style scoped>\n    .dataframe tbody tr th:only-of-type {\n        vertical-align: middle;\n    }\n\n    .dataframe tbody tr th {\n        vertical-align: top;\n    }\n\n    .dataframe thead th {\n        text-align: right;\n    }\n</style>\n<table border=\"1\" class=\"dataframe\">\n  <thead>\n    <tr style=\"text-align: right;\">\n      <th></th>\n      <th>global_id</th>\n      <th>Наименование поддержанной компании</th>\n      <th>Отрасль</th>\n      <th>Подотрасль</th>\n      <th>Технология (1 уровень)</th>\n      <th>Технология (2 уровень)</th>\n      <th>Технология (3 уровень)</th>\n      <th>Сайт</th>\n      <th>Описание компании</th>\n    </tr>\n  </thead>\n  <tbody>\n    <tr>\n      <th>593</th>\n      <td>811423</td>\n      <td>ООО \"ДАТАТЕХ\"</td>\n      <td>ПРОМЫШЛЕННОСТЬ</td>\n      <td>Системная интеграция и заказная разработка</td>\n      <td>Обработка и преобразование информации</td>\n      <td>Обработка и хранение больших данных</td>\n      <td>Интерфейсы обмена большими данными</td>\n      <td>https://navigator.sk.ru/orn/1124203</td>\n      <td>Компания Дататех - один из ведущих разработчик...</td>\n    </tr>\n  </tbody>\n</table>\n</div>"
     },
     "metadata": {},
     "output_type": "display_data"
    },
    {
     "data": {
      "text/plain": "   global_id (продукта)  Компания Рыночное наименование продукта   \\\n1                812474    811423                               -   \n\n                                     Раздел (ОКПД 2)  \\\n1  Раздел M. Услуги, связанные с научной, инженер...   \n\n                                      Класс (ОКПД 2)  \\\n1  72. Услуги и работы, связанные с научными иссл...   \n\n                                   Подкласс (ОКПД 2)  \\\n1  72.1. Услуги, связанные с научными исследовани...   \n\n                                     Группа (ОКПД 2)  \\\n1  72.19. Услуги, связанные с научными исследован...   \n\n                                  Подгруппа (ОКПД 2)  \\\n1  72.19.2. Услуги, связанные с научными исследов...   \n\n                                        Вид (ОКПД 2)  \\\n1  72.19.21. Услуги, связанные с научными исследо...   \n\n                                  Категория (ОКПД 2) Подкатегория (ОКПД 2)  \\\n1  72.19.21.000. Услуги, связанные с научными исс...           Отсутствует   \n\n  Описание продукта (с указанием конкретных характеристик)  \n1  Проект предполагает создание методик и фреймво...        ",
      "text/html": "<div>\n<style scoped>\n    .dataframe tbody tr th:only-of-type {\n        vertical-align: middle;\n    }\n\n    .dataframe tbody tr th {\n        vertical-align: top;\n    }\n\n    .dataframe thead th {\n        text-align: right;\n    }\n</style>\n<table border=\"1\" class=\"dataframe\">\n  <thead>\n    <tr style=\"text-align: right;\">\n      <th></th>\n      <th>global_id (продукта)</th>\n      <th>Компания</th>\n      <th>Рыночное наименование продукта</th>\n      <th>Раздел (ОКПД 2)</th>\n      <th>Класс (ОКПД 2)</th>\n      <th>Подкласс (ОКПД 2)</th>\n      <th>Группа (ОКПД 2)</th>\n      <th>Подгруппа (ОКПД 2)</th>\n      <th>Вид (ОКПД 2)</th>\n      <th>Категория (ОКПД 2)</th>\n      <th>Подкатегория (ОКПД 2)</th>\n      <th>Описание продукта (с указанием конкретных характеристик)</th>\n    </tr>\n  </thead>\n  <tbody>\n    <tr>\n      <th>1</th>\n      <td>812474</td>\n      <td>811423</td>\n      <td>-</td>\n      <td>Раздел M. Услуги, связанные с научной, инженер...</td>\n      <td>72. Услуги и работы, связанные с научными иссл...</td>\n      <td>72.1. Услуги, связанные с научными исследовани...</td>\n      <td>72.19. Услуги, связанные с научными исследован...</td>\n      <td>72.19.2. Услуги, связанные с научными исследов...</td>\n      <td>72.19.21. Услуги, связанные с научными исследо...</td>\n      <td>72.19.21.000. Услуги, связанные с научными исс...</td>\n      <td>Отсутствует</td>\n      <td>Проект предполагает создание методик и фреймво...</td>\n    </tr>\n  </tbody>\n</table>\n</div>"
     },
     "metadata": {},
     "output_type": "display_data"
    },
    {
     "data": {
      "text/plain": "     global_id  Создаваемые продукты                      Отрасль  \\\n576     831547                812474            ФИНАНСОВЫЙ СЕКТОР   \n748     831805                812474  ТЕЛЕКОММУНИКАЦИИ И ИНТЕРНЕТ   \n\n                                    Подотрасль  \n576                    Банковская деятельность  \n748  Специализированные информационные системы  ",
      "text/html": "<div>\n<style scoped>\n    .dataframe tbody tr th:only-of-type {\n        vertical-align: middle;\n    }\n\n    .dataframe tbody tr th {\n        vertical-align: top;\n    }\n\n    .dataframe thead th {\n        text-align: right;\n    }\n</style>\n<table border=\"1\" class=\"dataframe\">\n  <thead>\n    <tr style=\"text-align: right;\">\n      <th></th>\n      <th>global_id</th>\n      <th>Создаваемые продукты</th>\n      <th>Отрасль</th>\n      <th>Подотрасль</th>\n    </tr>\n  </thead>\n  <tbody>\n    <tr>\n      <th>576</th>\n      <td>831547</td>\n      <td>812474</td>\n      <td>ФИНАНСОВЫЙ СЕКТОР</td>\n      <td>Банковская деятельность</td>\n    </tr>\n    <tr>\n      <th>748</th>\n      <td>831805</td>\n      <td>812474</td>\n      <td>ТЕЛЕКОММУНИКАЦИИ И ИНТЕРНЕТ</td>\n      <td>Специализированные информационные системы</td>\n    </tr>\n  </tbody>\n</table>\n</div>"
     },
     "metadata": {},
     "output_type": "display_data"
    },
    {
     "data": {
      "text/plain": "     global_id  Создаваемые продукты                 Технология (1 уровень)  \\\n173     832917                812474  Обработка и преобразование информации   \n227     832990                812474  Обработка и преобразование информации   \n414     833258                812474  Обработка и преобразование информации   \n\n                  Технология (2 уровень)  \\\n173  Обработка и хранение больших данных   \n227  Обработка и хранение больших данных   \n414  Обработка и хранение больших данных   \n\n                                Технология (3 уровень)  \n173                 Интерфейсы обмена большими данными  \n227  Методы и способы визуализации, представления и...  \n414                   Системы управления базами данных  ",
      "text/html": "<div>\n<style scoped>\n    .dataframe tbody tr th:only-of-type {\n        vertical-align: middle;\n    }\n\n    .dataframe tbody tr th {\n        vertical-align: top;\n    }\n\n    .dataframe thead th {\n        text-align: right;\n    }\n</style>\n<table border=\"1\" class=\"dataframe\">\n  <thead>\n    <tr style=\"text-align: right;\">\n      <th></th>\n      <th>global_id</th>\n      <th>Создаваемые продукты</th>\n      <th>Технология (1 уровень)</th>\n      <th>Технология (2 уровень)</th>\n      <th>Технология (3 уровень)</th>\n    </tr>\n  </thead>\n  <tbody>\n    <tr>\n      <th>173</th>\n      <td>832917</td>\n      <td>812474</td>\n      <td>Обработка и преобразование информации</td>\n      <td>Обработка и хранение больших данных</td>\n      <td>Интерфейсы обмена большими данными</td>\n    </tr>\n    <tr>\n      <th>227</th>\n      <td>832990</td>\n      <td>812474</td>\n      <td>Обработка и преобразование информации</td>\n      <td>Обработка и хранение больших данных</td>\n      <td>Методы и способы визуализации, представления и...</td>\n    </tr>\n    <tr>\n      <th>414</th>\n      <td>833258</td>\n      <td>812474</td>\n      <td>Обработка и преобразование информации</td>\n      <td>Обработка и хранение больших данных</td>\n      <td>Системы управления базами данных</td>\n    </tr>\n  </tbody>\n</table>\n</div>"
     },
     "metadata": {},
     "output_type": "display_data"
    },
    {
     "name": "stdout",
     "output_type": "stream",
     "text": [
      "https://navigator.sk.ru/orn/1124203\n",
      "\n"
     ]
    }
   ],
   "source": [
    "import requests\n",
    "from bs4 import BeautifulSoup\n",
    "\n",
    "product_id = int(input('Введите id продукта > '))\n",
    "company_id_from_product = products_dataset.loc[products_dataset['global_id (продукта)'] == product_id]['Компания'].values[0]\n",
    "\n",
    "display(companies_dataset.loc[companies_dataset['global_id'] == company_id_from_product])\n",
    "display(products_dataset.loc[products_dataset['global_id (продукта)'] == product_id])\n",
    "display(industry_dataset.loc[industry_dataset['Создаваемые продукты'] == product_id])\n",
    "display(technology_dataset.loc[technology_dataset['Создаваемые продукты'] == product_id])\n",
    "\n",
    "url = companies_dataset.loc[companies_dataset['global_id'] == company_id_from_product]['Сайт'].values[0]\n",
    "\n",
    "print(url)\n",
    "# if url != 'Не указано':\n",
    "#     if re.match(r';|,', url):\n",
    "#         url = re.sub(r'[;|,](.*)', '', url)\n",
    "\n",
    "source = requests.head(url, timeout=10)\n",
    "soup = BeautifulSoup(source.text)\n",
    "description = soup.find('meta', attrs={'name': 'description'})\n",
    "print(source)\n",
    "print(source.text)\n",
    "if description:\n",
    "    display(description[\"content\"].encode(\"utf-8\"))\n"
   ]
  },
  {
   "cell_type": "markdown",
   "metadata": {},
   "source": [
    "Отобразить классификаторы компании и продукта"
   ]
  },
  {
   "cell_type": "code",
   "execution_count": null,
   "metadata": {},
   "outputs": [],
   "source": [
    "from pymorphy2 import MorphAnalyzer\n",
    "from nltk.corpus import stopwords\n",
    "\n",
    "rus_stop_words = stopwords.words('russian')\n",
    "\n",
    "\n",
    "morph_analyzer = MorphAnalyzer()\n",
    "\n",
    "#Удаление пунктуации и приведение в нижний регистр\n",
    "buffer = companies_description.lower()\n",
    "buffer = re.sub(r'[^\\w\\s-]', '', buffer, flags=re.UNICODE)\n",
    "lemmatized = ''\n",
    "for word in buffer.split():\n",
    "    lemmatized += (' '+morph_analyzer.parse(word)[0].normal_form)\n",
    "\n",
    "companies_description = lemmatized;\n",
    "\n",
    "display(companies_description)\n",
    "\n",
    "buffer = products_descriptions.lower()\n",
    "buffer = re.sub(r'[^\\w\\s-]', '', buffer, flags=re.UNICODE)\n",
    "lemmatized = ''\n",
    "for word in buffer.split():\n",
    "    lemmatized += (' '+morph_analyzer.parse(word)[0].normal_form)\n",
    "\n",
    "products_descriptions = lemmatized;\n",
    "\n",
    "display(products_descriptions)\n"
   ]
  },
  {
   "cell_type": "code",
   "execution_count": 53,
   "outputs": [
    {
     "ename": "TypeError",
     "evalue": "decoding to str: need a bytes-like object, int found",
     "output_type": "error",
     "traceback": [
      "\u001B[1;31m---------------------------------------------------------------------------\u001B[0m",
      "\u001B[1;31mTypeError\u001B[0m                                 Traceback (most recent call last)",
      "Cell \u001B[1;32mIn [53], line 24\u001B[0m\n\u001B[0;32m     22\u001B[0m corpora_comp_description \u001B[38;5;241m=\u001B[39m []\n\u001B[0;32m     23\u001B[0m \u001B[38;5;28;01mfor\u001B[39;00m e \u001B[38;5;129;01min\u001B[39;00m companies_description:\n\u001B[1;32m---> 24\u001B[0m     corpora_comp_description\u001B[38;5;241m.\u001B[39mappend([\u001B[43mcorpora\u001B[49m\u001B[38;5;241;43m.\u001B[39;49m\u001B[43mDictionary\u001B[49m\u001B[43m(\u001B[49m\u001B[43m)\u001B[49m\u001B[38;5;241;43m.\u001B[39;49m\u001B[43mdoc2bow\u001B[49m\u001B[43m(\u001B[49m\u001B[43me\u001B[49m\u001B[43m,\u001B[49m\u001B[43m \u001B[49m\u001B[43mallow_update\u001B[49m\u001B[38;5;241;43m=\u001B[39;49m\u001B[38;5;28;43;01mTrue\u001B[39;49;00m\u001B[43m)\u001B[49m])\n\u001B[0;32m     26\u001B[0m \u001B[38;5;28mprint\u001B[39m(corpora_comp_description)\n",
      "File \u001B[1;32m~\\Documents\\volgahack\\venv\\lib\\site-packages\\gensim\\corpora\\dictionary.py:246\u001B[0m, in \u001B[0;36mDictionary.doc2bow\u001B[1;34m(self, document, allow_update, return_missing)\u001B[0m\n\u001B[0;32m    244\u001B[0m counter \u001B[38;5;241m=\u001B[39m defaultdict(\u001B[38;5;28mint\u001B[39m)\n\u001B[0;32m    245\u001B[0m \u001B[38;5;28;01mfor\u001B[39;00m w \u001B[38;5;129;01min\u001B[39;00m document:\n\u001B[1;32m--> 246\u001B[0m     counter[w \u001B[38;5;28;01mif\u001B[39;00m \u001B[38;5;28misinstance\u001B[39m(w, \u001B[38;5;28mstr\u001B[39m) \u001B[38;5;28;01melse\u001B[39;00m \u001B[38;5;28;43mstr\u001B[39;49m\u001B[43m(\u001B[49m\u001B[43mw\u001B[49m\u001B[43m,\u001B[49m\u001B[43m \u001B[49m\u001B[38;5;124;43m'\u001B[39;49m\u001B[38;5;124;43mutf-8\u001B[39;49m\u001B[38;5;124;43m'\u001B[39;49m\u001B[43m)\u001B[49m] \u001B[38;5;241m+\u001B[39m\u001B[38;5;241m=\u001B[39m \u001B[38;5;241m1\u001B[39m\n\u001B[0;32m    248\u001B[0m token2id \u001B[38;5;241m=\u001B[39m \u001B[38;5;28mself\u001B[39m\u001B[38;5;241m.\u001B[39mtoken2id\n\u001B[0;32m    249\u001B[0m \u001B[38;5;28;01mif\u001B[39;00m allow_update \u001B[38;5;129;01mor\u001B[39;00m return_missing:\n",
      "\u001B[1;31mTypeError\u001B[0m: decoding to str: need a bytes-like object, int found"
     ]
    }
   ],
   "source": [
    "from gensim import corpora\n",
    "products_dataset.sort_values('Компания')\n",
    "\n",
    "companies_description = []\n",
    "products_descriptions = []\n",
    "#web_descriptions = []\n",
    "\n",
    "comp_description_slice = companies_dataset.loc[:,['global_id', 'Описание компании']]\n",
    "products_description_slice = products_dataset.loc[:,['global_id (продукта)', 'Компания', 'Описание продукта (с указанием конкретных характеристик)']]\n",
    "\n",
    "for descript in comp_description_slice['Описание компании'].tolist():\n",
    "    string = [[text for text in descript.split()]]\n",
    "    dictionary = corpora.Dictionary(string)\n",
    "    companies_description.append(dictionary)\n",
    "\n",
    "\n",
    "for descript in products_description_slice['Описание продукта (с указанием конкретных характеристик)'].tolist():\n",
    "    string = [[text for text in descript.split()]]\n",
    "    dictionary = corpora.Dictionary(string)\n",
    "    products_descriptions.append(dictionary)\n",
    "\n",
    "corpora_comp_description = []\n",
    "for e in companies_description:\n",
    "    corpora_comp_description.append([corpora.Dictionary().doc2bow(e, allow_update=True)])\n",
    "\n",
    "print(corpora_comp_description)\n"
   ],
   "metadata": {
    "collapsed": false
   }
  },
  {
   "cell_type": "code",
   "execution_count": null,
   "outputs": [],
   "source": [
    "from gensim import corpora\n"
   ],
   "metadata": {
    "collapsed": false
   }
  }
 ],
 "metadata": {
  "kernelspec": {
   "display_name": "Python 3 (ipykernel)",
   "language": "python",
   "name": "python3"
  },
  "language_info": {
   "codemirror_mode": {
    "name": "ipython",
    "version": 3
   },
   "file_extension": ".py",
   "mimetype": "text/x-python",
   "name": "python",
   "nbconvert_exporter": "python",
   "pygments_lexer": "ipython3",
   "version": "3.10.7"
  }
 },
 "nbformat": 4,
 "nbformat_minor": 1
}
